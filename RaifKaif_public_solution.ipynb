{
 "cells": [
  {
   "cell_type": "markdown",
   "metadata": {},
   "source": [
    "# Imports"
   ]
  },
  {
   "cell_type": "code",
   "execution_count": 1,
   "metadata": {},
   "outputs": [],
   "source": [
    "!pip install -q catboost ipywidgets\n",
    "import numpy as np\n",
    "import pandas as pd\n",
    "\n",
    "import matplotlib.pyplot as plt\n",
    "\n",
    "from sklearn.model_selection import cross_val_score\n",
    "from catboost import CatBoostRegressor\n",
    "\n",
    "import ipywidgets\n",
    "\n",
    "import os\n",
    "\n",
    "plt.rcParams['figure.figsize'] = [12, 6]\n",
    "pd.set_option('display.max_rows', 500)\n",
    "\n",
    "%matplotlib inline\n",
    "\n",
    "from IPython.core.interactiveshell import InteractiveShell\n",
    "InteractiveShell.ast_node_interactivity = \"all\""
   ]
  },
  {
   "cell_type": "markdown",
   "metadata": {},
   "source": [
    "# Metrics"
   ]
  },
  {
   "cell_type": "code",
   "execution_count": 2,
   "metadata": {},
   "outputs": [],
   "source": [
    "import typing\n",
    "import numpy as np\n",
    "from sklearn.metrics import mean_absolute_percentage_error, r2_score, mean_squared_error\n",
    "\n",
    "THRESHOLD = 0.15\n",
    "NEGATIVE_WEIGHT = 1.1\n",
    "\n",
    "def deviation_metric_one_sample(y_true: typing.Union[float, int], y_pred: typing.Union[float, int]) -> float:\n",
    "    \"\"\"\n",
    "    Реализация кастомной метрики для хакатона.\n",
    "\n",
    "    :param y_true: float, реальная цена\n",
    "    :param y_pred: float, предсказанная цена\n",
    "    :return: float, значение метрики\n",
    "    \"\"\"\n",
    "    deviation = (y_pred - y_true) / np.maximum(1e-8, y_true)\n",
    "    if np.abs(deviation) <= THRESHOLD:\n",
    "        return 0\n",
    "    elif deviation <= - 4 * THRESHOLD:\n",
    "        return 9 * NEGATIVE_WEIGHT\n",
    "    elif deviation < -THRESHOLD:\n",
    "        return NEGATIVE_WEIGHT * ((deviation / THRESHOLD) + 1) ** 2\n",
    "    elif deviation < 4 * THRESHOLD:\n",
    "        return ((deviation / THRESHOLD) - 1) ** 2\n",
    "    else:\n",
    "        return 9\n",
    "\n",
    "\n",
    "def deviation_metric(y_true, y_pred, isLog=False) -> float:\n",
    "    if isLog:\n",
    "        y_pred = np.exp(y_pred)\n",
    "        y_true = np.exp(y_true)\n",
    "    return np.array([deviation_metric_one_sample(y_true[n], y_pred[n]) for n in range(len(y_true))]).mean()\n",
    "\n",
    "def median_absolute_percentage_error(y_true: np.array, y_pred: np.array) -> float:\n",
    "    return np.median(np.abs(y_pred-y_true)/y_true)\n",
    "\n",
    "def metrics_stat(y_true: np.array, y_pred: np.array) -> typing.Dict[str,float]:\n",
    "    mape = mean_absolute_percentage_error(y_true, y_pred)\n",
    "    mdape = median_absolute_percentage_error(y_true, y_pred)\n",
    "    rmse = mean_squared_error(y_true, y_pred, squared=False)\n",
    "    r2 = r2_score(y_true, y_pred)\n",
    "    raif_metric = deviation_metric(y_true, y_pred)\n",
    "    return {'mape':mape, 'mdape':mdape, 'rmse': rmse, 'r2': r2, 'raif_metric':raif_metric}\n",
    "\n",
    "EPS = 1e-8\n",
    "assert deviation_metric(np.array([1,2,3,4,5]),np.array([1,2,3,4,5])) <= EPS\n",
    "assert deviation_metric(np.array([1,2,3,4,5]),np.array([0.9,1.8,2.7,3.6,4.5])) <= EPS\n",
    "assert deviation_metric(np.array([1,2,3,4,5]),np.array([1.1,2.2,3.3,4.4,5.5])) <= EPS\n",
    "assert deviation_metric(np.array([1,2,3,4,5]),np.array([1.15,2.3,3.45,4.6,5.75])) <= EPS\n",
    "assert np.abs(deviation_metric(np.array([1,2,3,4,5]),np.array([1.3,2.6,3.9,5.2,6.5]))-1) <= EPS\n",
    "assert np.abs(deviation_metric(np.array([1,2,3,4,5]),np.array([0.7,1.4,2.1,2.8,3.5]))-1*NEGATIVE_WEIGHT) <= EPS\n",
    "assert np.abs(deviation_metric(np.array([1,2,3,4,5]),np.array([10,20,30,40,50]))-9) <= EPS\n",
    "assert np.abs(deviation_metric(np.array([1,2,3,4,5]),np.array([0,0,0,0,0]))-9*NEGATIVE_WEIGHT) <= EPS\n",
    "assert np.abs(deviation_metric(np.array([1,2,3,4,5]),np.array([1,2.2,3.3,5,50])) - 85/45) <= EPS"
   ]
  },
  {
   "cell_type": "markdown",
   "metadata": {},
   "source": [
    "# Load data\n"
   ]
  },
  {
   "cell_type": "code",
   "execution_count": 3,
   "metadata": {},
   "outputs": [
    {
     "name": "stderr",
     "output_type": "stream",
     "text": [
      "C:\\Users\\ukhin\\.conda\\envs\\PythonGPU\\lib\\site-packages\\IPython\\core\\interactiveshell.py:3058: DtypeWarning: Columns (1) have mixed types. Specify dtype option on import or set low_memory=False.\n",
      "  interactivity=interactivity, compiler=compiler, result=result)\n"
     ]
    }
   ],
   "source": [
    "starting_data = pd.read_csv('data/train.csv', index_col='id')"
   ]
  },
  {
   "cell_type": "code",
   "execution_count": 4,
   "metadata": {},
   "outputs": [],
   "source": [
    "starting_data = starting_data.reindex(columns=sorted(starting_data.columns))"
   ]
  },
  {
   "cell_type": "markdown",
   "metadata": {
    "scrolled": true
   },
   "source": [
    "# Features"
   ]
  },
  {
   "cell_type": "markdown",
   "metadata": {},
   "source": [
    "### drop some features "
   ]
  },
  {
   "cell_type": "code",
   "execution_count": 5,
   "metadata": {},
   "outputs": [],
   "source": [
    "df_DateOut = starting_data.drop(['date'], axis = 1)"
   ]
  },
  {
   "cell_type": "markdown",
   "metadata": {},
   "source": [
    "### make feature from 'floor' column "
   ]
  },
  {
   "cell_type": "code",
   "execution_count": 6,
   "metadata": {},
   "outputs": [],
   "source": [
    "def set_floor(str):\n",
    "    ans = []\n",
    "    try:\n",
    "        s = float(str)\n",
    "        if s<0:\n",
    "            return '-1'\n",
    "        if s == 1:\n",
    "            return '1'\n",
    "        if s==2:\n",
    "            return '2'\n",
    "        if s<5:\n",
    "            return '3'\n",
    "        if s<10:\n",
    "            return '4'\n",
    "        if s<20:\n",
    "            return '5'\n",
    "        if s<50:\n",
    "            return '6'\n",
    "        if s<90:\n",
    "            return '7'\n",
    "        else:\n",
    "            return '0'\n",
    "        \n",
    "    except:\n",
    "        if 'подвал' in str.lower() :\n",
    "            return 'подвал'\n",
    "        if 'цоколь' in str.lower() :\n",
    "            return 'цоколь'\n",
    "        else:\n",
    "            return 'uknown'"
   ]
  },
  {
   "cell_type": "code",
   "execution_count": 7,
   "metadata": {},
   "outputs": [],
   "source": [
    "df_CatFloor_DateOut = df_DateOut\n",
    "df_CatFloor_DateOut['floor'] = df_CatFloor_DateOut['floor'].apply(str)\n",
    "df_CatFloor_DateOut['floor'] = df_CatFloor_DateOut['floor'].apply(set_floor)"
   ]
  },
  {
   "cell_type": "markdown",
   "metadata": {},
   "source": [
    "### categorical features "
   ]
  },
  {
   "cell_type": "code",
   "execution_count": 8,
   "metadata": {},
   "outputs": [
    {
     "data": {
      "text/plain": [
       "{'city', 'floor', 'osm_city_nearest_name', 'realty_type', 'region', 'street'}"
      ]
     },
     "execution_count": 8,
     "metadata": {},
     "output_type": "execute_result"
    }
   ],
   "source": [
    "cat_features = set([df_CatFloor_DateOut.columns[i] for i in range(len(df_CatFloor_DateOut.dtypes)) if str(df_CatFloor_DateOut.dtypes[i]) not in ['float64','float32', 'int64']])\n",
    "\n",
    "cat_features.add(df_CatFloor_DateOut.columns[list(df_CatFloor_DateOut.columns).index('realty_type')])\n",
    "df_CatFloor_DateOut['realty_type']= df_CatFloor_DateOut['realty_type'].apply(str)\n",
    "cat_features.add(df_CatFloor_DateOut.columns[list(df_CatFloor_DateOut.columns).index('floor')])\n",
    "\n",
    "cat_features"
   ]
  },
  {
   "cell_type": "markdown",
   "metadata": {},
   "source": [
    "### dropna "
   ]
  },
  {
   "cell_type": "code",
   "execution_count": 9,
   "metadata": {},
   "outputs": [],
   "source": [
    "for col in df_CatFloor_DateOut.columns:\n",
    "    if col not in cat_features:\n",
    "        df_CatFloor_DateOut[col] = df_CatFloor_DateOut[col].fillna(df_CatFloor_DateOut[col].median())\n",
    "    else:\n",
    "        df_CatFloor_DateOut[col] = df_CatFloor_DateOut[col].fillna('unknown')"
   ]
  },
  {
   "cell_type": "markdown",
   "metadata": {},
   "source": [
    "### Logarithms"
   ]
  },
  {
   "cell_type": "markdown",
   "metadata": {},
   "source": [
    "Посмотрим на распределения общей площади площади и цены за квадратный метр"
   ]
  },
  {
   "cell_type": "code",
   "execution_count": 10,
   "metadata": {},
   "outputs": [
    {
     "data": {
      "image/png": "[encoded data removed]",
      "text/plain": [
       "<Figure size 432x288 with 1 Axes>"
      ]
     },
     "metadata": {
      "needs_background": "light"
     },
     "output_type": "display_data"
    }
   ],
   "source": [
    "fig = plt.hist(df_CatFloor_DateOut.per_square_meter_price, bins=500)\n",
    "t = plt.title('распределение цены')"
   ]
  },
  {
   "cell_type": "code",
   "execution_count": 11,
   "metadata": {
    "scrolled": true
   },
   "outputs": [
    {
     "data": {
      "image/png": "[encoded data removed]",
      "text/plain": [
       "<Figure size 432x288 with 1 Axes>"
      ]
     },
     "metadata": {
      "needs_background": "light"
     },
     "output_type": "display_data"
    }
   ],
   "source": [
    "fig = plt.hist(df_CatFloor_DateOut.total_square, bins=100)\n",
    "t = plt.title('распределение объектов по общей площади')"
   ]
  },
  {
   "cell_type": "markdown",
   "metadata": {},
   "source": [
    "Это распределение напоминает логнормальное. Возьмем теперь логарифм от этих колонок."
   ]
  },
  {
   "cell_type": "code",
   "execution_count": 22,
   "metadata": {},
   "outputs": [
    {
     "data": {
      "image/png": "[encoded data removed]",
      "text/plain": [
       "<Figure size 432x288 with 1 Axes>"
      ]
     },
     "metadata": {
      "needs_background": "light"
     },
     "output_type": "display_data"
    }
   ],
   "source": [
    "fig = plt.hist(np.log(df_CatFloor_DateOut.per_square_meter_price), bins=500)\n",
    "t = plt.title('распределение логарифма цены')"
   ]
  },
  {
   "cell_type": "code",
   "execution_count": 23,
   "metadata": {},
   "outputs": [
    {
     "data": {
      "image/png": "[encoded data removed]",
      "text/plain": [
       "<Figure size 432x288 with 1 Axes>"
      ]
     },
     "metadata": {
      "needs_background": "light"
     },
     "output_type": "display_data"
    }
   ],
   "source": [
    "fig = plt.hist(np.log(df_CatFloor_DateOut.total_square), bins=100)\n",
    "t = plt.title('распределение логарифма общей площади')"
   ]
  },
  {
   "cell_type": "markdown",
   "metadata": {},
   "source": [
    "Поэтому, вместо цены будем тренироваться на логарифме цены, а также добавим колонку с логарифмом площади."
   ]
  },
  {
   "cell_type": "code",
   "execution_count": 14,
   "metadata": {},
   "outputs": [],
   "source": [
    "df_logSquare_CatFloor_DateOut = df_CatFloor_DateOut.merge(pd.DataFrame({'total_square_log':np.log(df_CatFloor_DateOut.total_square)}),\\\n",
    "              on=df_CatFloor_DateOut.index)\n",
    "df_logSquare_CatFloor_DateOut = df_logSquare_CatFloor_DateOut.rename({'key_0':'id'}, axis=1)\n",
    "df_logSquare_CatFloor_DateOut.index = df_logSquare_CatFloor_DateOut.id\n",
    "df_logSquare_CatFloor_DateOut.drop(['id'], axis=1, inplace=True)\n",
    "log_pr = df_logSquare_CatFloor_DateOut.per_square_meter_price.apply(np.log)\n",
    "df_logPrice_logSquare_CatFloor_DateOut = df_logSquare_CatFloor_DateOut\n",
    "df_logPrice_logSquare_CatFloor_DateOut['per_square_meter_price'] = log_pr\n",
    "main_df_price1 = df_logPrice_logSquare_CatFloor_DateOut.loc[df_logSquare_CatFloor_DateOut.price_type == 1].drop(['price_type'], axis = 1)\n",
    "main_df_price0 = df_logPrice_logSquare_CatFloor_DateOut.loc[df_logSquare_CatFloor_DateOut.price_type == 0].drop(['price_type'], axis = 1)"
   ]
  },
  {
   "cell_type": "markdown",
   "metadata": {},
   "source": [
    "# Experiments"
   ]
  },
  {
   "cell_type": "markdown",
   "metadata": {},
   "source": [
    "### cross validation "
   ]
  },
  {
   "cell_type": "code",
   "execution_count": 15,
   "metadata": {},
   "outputs": [],
   "source": [
    "def cross_validate(data, iterations, cat_features, verbose, n_cv, unused_features):\n",
    "    data.drop(unused_features, axis=1, inplace=True)\n",
    "    diff = set(unused_features)\n",
    "    cat_features.difference_update(diff)\n",
    "    \n",
    "    catboost_regressor = CatBoostRegressor(iterations=iterations,cat_features=cat_features, random_seed=17, task_type=task_type)\n",
    "    \n",
    "    idxs = [[] for i in range(n_cv)]\n",
    "    for i in range(len(data)):\n",
    "        r = np.random.randint(0, n_cv)\n",
    "        idxs[r].append(data.index[i])\n",
    "    X_train = pd.DataFrame()\n",
    "    X_test  = pd.DataFrame()\n",
    "    y_train = pd.DataFrame()\n",
    "    y_test  = pd.DataFrame()\n",
    "    scores = []\n",
    "    feature_imp_lst = []\n",
    "    for i in range(len(idxs)):\n",
    "        print('Iter: ', i)\n",
    "        train_idxs = []\n",
    "        for idx in idxs[:i]+idxs[i+1:]:\n",
    "            train_idxs+=idx\n",
    "        X_train =  data.loc[train_idxs, :].drop('per_square_meter_price', axis=1)\n",
    "        X_test  =  data.loc[idxs[i]].drop('per_square_meter_price', axis=1)\n",
    "        y_train =  data.loc[train_idxs, :].per_square_meter_price\n",
    "        y_test  =  data.loc[idxs[i], :].per_square_meter_price\n",
    "        catboost_regressor.fit(X_train, y_train, verbose=verbose, plot=True)\n",
    "        y_pred = catboost_regressor.predict(X_test)\n",
    "        score = deviation_metric(y_test, y_pred, isLog=True)\n",
    "        scores.append(score)\n",
    "        feature_imp_lst.append(catboost_regressor.feature_importances_)\n",
    "        print(\"Score: \", score)   \n",
    "    print('Score: ', sum(scores)/len(scores))\n",
    "    feature_imps = []\n",
    "    for i in range(len(sum(feature_imp_lst)/len(feature_imp_lst))):\n",
    "        feature_imps.append((X_train.columns[i], catboost_regressor.feature_importances_[i]))\n",
    "    feature_imps = sorted(feature_imps, key = lambda x: x[1])\n",
    "    feature_imps.reverse()\n",
    "    print('Feature importances')\n",
    "    print(feature_imps)"
   ]
  },
  {
   "cell_type": "markdown",
   "metadata": {},
   "source": [
    "### only '1' class, log price, log total square"
   ]
  },
  {
   "cell_type": "code",
   "execution_count": 16,
   "metadata": {},
   "outputs": [],
   "source": [
    "iterations=1000\n",
    "task_type=\"CPU\"\n",
    "verbose=False\n",
    "n_cv = 4\n",
    "unused_features = ['total_square']\n",
    "data = main_df_price1.copy()\n",
    "cross_validate(data, iterations, cat_features, verbose, n_cv, unused_features)"
   ]
  },
  {
   "cell_type": "markdown",
   "metadata": {},
   "source": [
    "# Fitting"
   ]
  },
  {
   "cell_type": "code",
   "execution_count": 17,
   "metadata": {
    "scrolled": true
   },
   "outputs": [],
   "source": [
    "iterations=1000\n",
    "task_type=\"GPU\"\n",
    "verbose=False\n",
    "unused_features = ['total_square']\n",
    "data = main_df_price1.copy()\n",
    "data.drop(unused_features, axis=1, inplace=True)\n",
    "diff = set(unused_features)\n",
    "cat_features.difference_update(diff)\n",
    "catboost_regressor = CatBoostRegressor(iterations=iterations,cat_features=cat_features, random_seed=17, task_type=task_type)\n",
    "X_train =  data.drop('per_square_meter_price', axis=1)\n",
    "y_train =  data.per_square_meter_price\n",
    "catboost_regressor.fit(X_train, y_train, verbose=verbose, plot=True)"
   ]
  },
  {
   "cell_type": "markdown",
   "metadata": {},
   "source": [
    "# Prediction"
   ]
  },
  {
   "cell_type": "code",
   "execution_count": 18,
   "metadata": {},
   "outputs": [],
   "source": [
    "test_df = pd.read_csv('data/test.csv', index_col = 'id')"
   ]
  },
  {
   "cell_type": "code",
   "execution_count": 19,
   "metadata": {},
   "outputs": [],
   "source": [
    "test_df = test_df.reindex(columns=sorted(test_df.columns))"
   ]
  },
  {
   "cell_type": "code",
   "execution_count": 20,
   "metadata": {
    "scrolled": false
   },
   "outputs": [
    {
     "data": {
      "text/html": [
       "<div>\n",
       "<style scoped>\n",
       "    .dataframe tbody tr th:only-of-type {\n",
       "        vertical-align: middle;\n",
       "    }\n",
       "\n",
       "    .dataframe tbody tr th {\n",
       "        vertical-align: top;\n",
       "    }\n",
       "\n",
       "    .dataframe thead th {\n",
       "        text-align: right;\n",
       "    }\n",
       "</style>\n",
       "<table border=\"1\" class=\"dataframe\">\n",
       "  <thead>\n",
       "    <tr style=\"text-align: right;\">\n",
       "      <th></th>\n",
       "      <th>per_square_meter_price</th>\n",
       "    </tr>\n",
       "    <tr>\n",
       "      <th>id</th>\n",
       "      <th></th>\n",
       "    </tr>\n",
       "  </thead>\n",
       "  <tbody>\n",
       "    <tr>\n",
       "      <th>COL_289284</th>\n",
       "      <td>44741.823353</td>\n",
       "    </tr>\n",
       "    <tr>\n",
       "      <th>COL_289305</th>\n",
       "      <td>43610.418117</td>\n",
       "    </tr>\n",
       "    <tr>\n",
       "      <th>COL_289318</th>\n",
       "      <td>37310.085271</td>\n",
       "    </tr>\n",
       "    <tr>\n",
       "      <th>COL_289354</th>\n",
       "      <td>94883.870189</td>\n",
       "    </tr>\n",
       "    <tr>\n",
       "      <th>COL_289399</th>\n",
       "      <td>56729.724212</td>\n",
       "    </tr>\n",
       "    <tr>\n",
       "      <th>...</th>\n",
       "      <td>...</td>\n",
       "    </tr>\n",
       "    <tr>\n",
       "      <th>COL_455089</th>\n",
       "      <td>29113.467708</td>\n",
       "    </tr>\n",
       "    <tr>\n",
       "      <th>COL_455212</th>\n",
       "      <td>48454.583752</td>\n",
       "    </tr>\n",
       "    <tr>\n",
       "      <th>COL_455261</th>\n",
       "      <td>41690.948171</td>\n",
       "    </tr>\n",
       "    <tr>\n",
       "      <th>COL_455381</th>\n",
       "      <td>49537.116032</td>\n",
       "    </tr>\n",
       "    <tr>\n",
       "      <th>COL_455397</th>\n",
       "      <td>47313.267096</td>\n",
       "    </tr>\n",
       "  </tbody>\n",
       "</table>\n",
       "<p>2974 rows × 1 columns</p>\n",
       "</div>"
      ],
      "text/plain": [
       "            per_square_meter_price\n",
       "id                                \n",
       "COL_289284            44741.823353\n",
       "COL_289305            43610.418117\n",
       "COL_289318            37310.085271\n",
       "COL_289354            94883.870189\n",
       "COL_289399            56729.724212\n",
       "...                            ...\n",
       "COL_455089            29113.467708\n",
       "COL_455212            48454.583752\n",
       "COL_455261            41690.948171\n",
       "COL_455381            49537.116032\n",
       "COL_455397            47313.267096\n",
       "\n",
       "[2974 rows x 1 columns]"
      ]
     },
     "execution_count": 20,
     "metadata": {},
     "output_type": "execute_result"
    }
   ],
   "source": [
    "test_df = test_df.drop(['date'], axis = 1).copy()\n",
    "test_df['floor'] = test_df['floor'].apply(str)\n",
    "test_df['floor'] = test_df['floor'].apply(set_floor)\n",
    "test_df['realty_type']= test_df['realty_type'].apply(str)\n",
    "for col in test_df.columns:\n",
    "    if col not in cat_features:\n",
    "        test_df[col] = test_df[col].fillna(test_df[col].median())\n",
    "    else:\n",
    "        test_df[col] = test_df[col].fillna('unknown')\n",
    "log_sq = test_df.total_square.apply(np.log)\n",
    "test_df['total_square_log'] = log_sq \n",
    "test_df.drop(['price_type']+unused_features, axis = 1, inplace=True)\n",
    "test_predict = catboost_regressor.predict(test_df)\n",
    "test_predict = np.exp(test_predict)\n",
    "and_df = pd.DataFrame({'per_square_meter_price':test_predict})\n",
    "and_df.index = test_df.index\n",
    "and_df"
   ]
  },
  {
   "cell_type": "code",
   "execution_count": 21,
   "metadata": {},
   "outputs": [],
   "source": [
    "and_df.to_csv('data/predict.csv')"
   ]
  }
 ],
 "metadata": {
  "kernelspec": {
   "display_name": "Python 3",
   "language": "python",
   "name": "python3"
  },
  "language_info": {
   "codemirror_mode": {
    "name": "ipython",
    "version": 3
   },
   "file_extension": ".py",
   "mimetype": "text/x-python",
   "name": "python",
   "nbconvert_exporter": "python",
   "pygments_lexer": "ipython3",
   "version": "3.8.8"
  }
 },
 "nbformat": 4,
 "nbformat_minor": 2
}
